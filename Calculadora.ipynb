{
  "nbformat": 4,
  "nbformat_minor": 0,
  "metadata": {
    "colab": {
      "provenance": []
    },
    "kernelspec": {
      "name": "python3",
      "display_name": "Python 3"
    },
    "language_info": {
      "name": "python"
    }
  },
  "cells": [
    {
      "cell_type": "code",
      "execution_count": 3,
      "metadata": {
        "colab": {
          "base_uri": "https://localhost:8080/"
        },
        "id": "q7OIJQk1Sgx7",
        "outputId": "04d64387-c5a5-4f7f-f22e-63b63a135f7a"
      },
      "outputs": [
        {
          "output_type": "stream",
          "name": "stdout",
          "text": [
            "Digite o primeiro número: 7\n",
            "Digite o segundo número: 8\n",
            "Digite a operação que deseja realizar (+, -, *, /): /\n",
            "O resultado da divisão é 0.875\n",
            "Deseja realizar outra operação? (s/n): n\n",
            "Programa encerrado. Volte sempre :)\n"
          ]
        }
      ],
      "source": [
        "# Pede os números\n",
        "while True:\n",
        "    num1 = int(input(\"Digite o primeiro número: \"))\n",
        "    num2 = int(input(\"Digite o segundo número: \"))\n",
        "\n",
        "    # Questiona qual operação deseja realizar (soma, subtração, multiplicação, divisão)\n",
        "    operacao = input(\"Digite a operação que deseja realizar (+, -, *, /): \")\n",
        "\n",
        "    # Realiza a operação conforme escolha do usuário\n",
        "    if operacao == \"+\":\n",
        "        nome = \"soma\"\n",
        "        resultado = num1 + num2\n",
        "    elif operacao == \"-\":\n",
        "        nome = \"subtração\"\n",
        "        resultado = num1 - num2\n",
        "    elif operacao == \"*\":\n",
        "        nome = \"multiplicação\"\n",
        "        resultado = num1 * num2\n",
        "    elif operacao == \"/\":\n",
        "        if num2 != 0:  # Adiciona uma verificação para divisão por zero\n",
        "            nome = \"divisão\"\n",
        "            resultado = num1 / num2\n",
        "        else:\n",
        "            resultado = \"Erro: Divisão por zero\"\n",
        "            nome = \"operação\"\n",
        "    else:\n",
        "        resultado = \"Operação inválida\"\n",
        "        nome = \"operação\"\n",
        "\n",
        "    # Exibe o resultado conforme operação realizada\n",
        "    print(f\"O resultado da {nome} é {resultado}\")\n",
        "\n",
        "    # Pergunta ao usuário se deseja continuar\n",
        "    continuar = input(\"Deseja realizar outra operação? (s/n): \").lower()\n",
        "    if continuar != 's':\n",
        "        break\n",
        "\n",
        "print(\"Programa encerrado. Volte sempre :)\")"
      ]
    },
    {
      "cell_type": "code",
      "source": [],
      "metadata": {
        "id": "F45-BgwMTl4j"
      },
      "execution_count": null,
      "outputs": []
    }
  ]
}